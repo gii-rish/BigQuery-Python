{
  "nbformat": 4,
  "nbformat_minor": 0,
  "metadata": {
    "colab": {
      "name": "BigQuery for python.ipynb",
      "provenance": [],
      "authorship_tag": "ABX9TyOJQfbKzrr0fk++Q8EoJE2a",
      "include_colab_link": true
    },
    "kernelspec": {
      "name": "python3",
      "display_name": "Python 3"
    },
    "language_info": {
      "name": "python"
    }
  },
  "cells": [
    {
      "cell_type": "markdown",
      "metadata": {
        "id": "view-in-github",
        "colab_type": "text"
      },
      "source": [
        "<a href=\"https://colab.research.google.com/github/gii-rish/BigQuery-Python/blob/main/BigQuery_for_python.ipynb\" target=\"_parent\"><img src=\"https://colab.research.google.com/assets/colab-badge.svg\" alt=\"Open In Colab\"/></a>"
      ]
    },
    {
      "cell_type": "code",
      "metadata": {
        "id": "MSITxD1L4R68",
        "colab": {
          "base_uri": "https://localhost:8080/"
        },
        "outputId": "1489e9f2-0944-434a-8659-f1eb7d021600"
      },
      "source": [
        "from google.colab import auth\n",
        "auth.authenticate_user()\n",
        "print('Authenticated')"
      ],
      "execution_count": 4,
      "outputs": [
        {
          "output_type": "stream",
          "text": [
            "Authenticated\n"
          ],
          "name": "stdout"
        }
      ]
    },
    {
      "cell_type": "code",
      "metadata": {
        "id": "1FXVUUUz6XSp"
      },
      "source": [
        "from google.cloud import bigquery\n",
        "bigquery_client = bigquery.Client(project=\"famous-hull-310212\")\n",
        "\n",
        "dataset_ref = bigquery_client.dataset(\"dataset_for_assignment\")\n",
        "try:\n",
        "  bigquery_client.get_dataset(dataset_ref)\n",
        "except Exception:\n",
        "  dataset = bigquery.Dataset(dataset_ref)\n",
        "  dataset = bigquery_client.create_dataset(dataset)\n",
        "  print(f\"dataset created {dataset.dataset_id}.\")\n",
        "\n",
        "table_ref = dataset_ref.table(\"Person\")\n",
        "try:\n",
        "  bigquery_client.get_table(table_ref)\n",
        "except Exception:\n",
        "  SCHEMA = [\n",
        "    bigquery.SchemaField(\"First_name\", \"STRING\", mode=\"REQUIRED\"),\n",
        "    bigquery.SchemaField(\"Last_name\", \"STRING\", mode=\"REQUIRED\"),\n",
        "    bigquery.SchemaField(\"Age\", \"INTEGER\", mode=\"REQUIRED\"),\n",
        "    bigquery.SchemaField(\"City\", \"STRING\", mode=\"REQUIRED\")\n",
        "  ]\n",
        "  table = bigquery.Table(table_ref, schema = SCHEMA)\n",
        "  table = bigquery_client.create_table(table)\n",
        "  print(f\"Created table {table.table_id}\")\n",
        "\n",
        "rows_to_insert = [\n",
        "                  {\"First_name\":\"Girish\", \"Last_name\": \"Mani\", \"Age\": 24, \"City\":\"Cochin\" },\n",
        "]\n",
        "errors = bigquery_client.insert_rows_json(table, rows_to_insert)\n",
        "assert errors == []"
      ],
      "execution_count": null,
      "outputs": []
    },
    {
      "cell_type": "code",
      "metadata": {
        "id": "w4RCjAxlLt0B"
      },
      "source": [
        "from google.cloud import bigquery\n",
        "\n",
        "# Construct a BigQuery client object.\n",
        "client = bigquery.Client(project=\"famous-hull-310212\")\n",
        "\n",
        "dataset_ref = bigquery_client.dataset(\"dataset_for_assignment\")\n",
        "try:\n",
        "  bigquery_client.get_dataset(dataset_ref)\n",
        "except Exception:\n",
        "  dataset = bigquery.Dataset(dataset_ref)\n",
        "  dataset = bigquery_client.create_dataset(dataset)\n",
        "  print(f\"dataset created {dataset.dataset_id}.\")\n",
        "\n",
        "table = dataset_ref.table(\"iris\")\n",
        "try:\n",
        "  bigquery_client.get_table(table)\n",
        "except:\n",
        "  table = bigquery.Table(table,)\n",
        "  table = bigquery_client.create_table(table)\n",
        "  print(f\"Created table {table.table_id}\")"
      ],
      "execution_count": null,
      "outputs": []
    },
    {
      "cell_type": "code",
      "metadata": {
        "id": "I5hXfjkVN3gf"
      },
      "source": [
        "from google.colab import files\n",
        "toUpload = files.upload()"
      ],
      "execution_count": null,
      "outputs": []
    },
    {
      "cell_type": "code",
      "metadata": {
        "id": "L8a07i8LOzw6"
      },
      "source": [
        "import io\n",
        "messages = pd.read_csv(io.BytesIO(toUpload['Iris.csv']), sep='\\t', error_bad_lines=False)\n",
        "messages.head()"
      ],
      "execution_count": null,
      "outputs": []
    },
    {
      "cell_type": "code",
      "metadata": {
        "id": "V6QR8q2gPAzq"
      },
      "source": [
        "job_config = bigquery.LoadJobConfig()\n",
        "job_config.source_format = bigquery.SourceFormat.CSV\n",
        "job_config.skip_leading_rows = 1 # ignore the header\n",
        "job_config.autodetect = True\n",
        "\n",
        "with open(\"Iris.csv\", \"rb\") as source_file:\n",
        "    job = client.load_table_from_file(\n",
        "        source_file, table, job_config=job_config\n",
        "    )\n",
        "job.result()"
      ],
      "execution_count": null,
      "outputs": []
    },
    {
      "cell_type": "code",
      "metadata": {
        "id": "I920olSJSZ_5"
      },
      "source": [
        "%%bigquery --project famous-hull-310212 df\n",
        "SELECT \n",
        "  *\n",
        "FROM `famous-hull-310212.dataset_for_assignment.iris` where Species = 'Iris-versicolor' and PetalLengthCm > 3.0"
      ],
      "execution_count": 96,
      "outputs": []
    },
    {
      "cell_type": "code",
      "metadata": {
        "id": "I6Aw6wr_WiVH"
      },
      "source": [
        "df"
      ],
      "execution_count": null,
      "outputs": []
    },
    {
      "cell_type": "code",
      "metadata": {
        "id": "RwR6J3YAVR8a"
      },
      "source": [
        "from google.colab import auth\n",
        "auth.authenticate_user()\n",
        "\n",
        "import gspread\n",
        "from oauth2client.client import GoogleCredentials\n",
        "from gspread_dataframe import set_with_dataframe\n",
        "\n",
        "gc = gspread.authorize(GoogleCredentials.get_application_default())\n",
        "\n",
        "sh = gc.create('Iris-versicolor-petal-length-greater-than-3')\n",
        "\n",
        "worksheet = gc.open('Iris-versicolor-petal-length-greater-than-3').sheet1\n",
        "\n",
        "set_with_dataframe(worksheet, df)"
      ],
      "execution_count": null,
      "outputs": []
    }
  ]
}